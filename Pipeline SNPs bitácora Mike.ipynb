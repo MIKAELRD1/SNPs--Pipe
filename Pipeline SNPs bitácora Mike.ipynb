{
 "cells": [
  {
   "cell_type": "markdown",
   "id": "5cfd3037",
   "metadata": {},
   "source": [
    "# Pipeline SNPs"
   ]
  },
  {
   "cell_type": "markdown",
   "id": "1e9ac33c",
   "metadata": {},
   "source": [
    "Se desarrolló una pipeline usando el software GATK4, bwa, Picard y SnpEff para detectar variantes (SNPs) en diferentes cultivares de aguacate, tomando de referencia el agucacate cv Hass. "
   ]
  },
  {
   "cell_type": "markdown",
   "id": "8a391076",
   "metadata": {},
   "source": [
    "Este objetivo de tesis que consiste en detectar variantes genéticas que sirvan para clasificar los dos tipos de floración A y B en diferentes cultivares."
   ]
  },
  {
   "cell_type": "markdown",
   "id": "3a9b18a2",
   "metadata": {},
   "source": [
    "# STEP 0 "
   ]
  },
  {
   "cell_type": "markdown",
   "id": "1db2487f",
   "metadata": {},
   "source": [
    "Preparamos los datos para trabajar:"
   ]
  },
  {
   "cell_type": "markdown",
   "id": "1e997c12",
   "metadata": {},
   "source": [
    "Descargamos el genoma de aguacate Hass que se utilizara para el alineamiento, procedente de la Queensland University. Este archivo lo obtenemos de la página https://www.avocado.uma.es/easy_gdb/downloads.php en el apartado **Hass UQ** con el nombre **Avocado_Hass_genome_HiFiAsm_Gr80.fasta.gz** una vez descargado se cambia el nombre a **queensland2023.fasta**. Después usamos este archivo para crear un indice usando el software bwa. "
   ]
  },
  {
   "cell_type": "code",
   "execution_count": null,
   "id": "d4cd747c",
   "metadata": {},
   "outputs": [],
   "source": [
    "bwa index queensland2023.fasta"
   ]
  },
  {
   "cell_type": "markdown",
   "id": "9e65ea5c",
   "metadata": {},
   "source": [
    "Descargamos datos de dos investigaciones detallando su estructura:\n",
    "Bioproyect **PRJNA564105** Talavera et al. (2019) 46 SRA utilizados 25 con floracion tipo A y 21 con tipo B.\n",
    "Bioproyect **PRJNA758103** Solares et la. (2022)  26 SRA, Tipo A 11, tipo B 9.\n",
    "\n",
    "Los datos son descargados usando fasterq-dump.\n"
   ]
  },
  {
   "cell_type": "code",
   "execution_count": null,
   "id": "951dbdae",
   "metadata": {},
   "outputs": [],
   "source": [
    "fasterq-dump  SRR18503088\n",
    "fasterq-dump  SRR18503073\n",
    "fasterq-dump  SRR18503087\n",
    "fasterq-dump  SRR18503086\n",
    "fasterq-dump  SRR18503080\n",
    "fasterq-dump  SRR18503072\n",
    "fasterq-dump  SRR18503092\n",
    "fasterq-dump  SRR18503071\n",
    "fasterq-dump  SRR18503085\n",
    "fasterq-dump  SRR18503070\n",
    "fasterq-dump  SRR18503090\n",
    "fasterq-dump  SRR18503091\n",
    "fasterq-dump  SRR18503074\n",
    "fasterq-dump  SRR18503084\n",
    "fasterq-dump  SRR18503075\n",
    "fasterq-dump  SRR18503076\n",
    "fasterq-dump  SRR18503083\n",
    "fasterq-dump  SRR18503082\n",
    "fasterq-dump  SRR18503081\n",
    "fasterq-dump  SRR18503089"
   ]
  },
  {
   "cell_type": "markdown",
   "id": "16b751b1",
   "metadata": {},
   "source": [
    "# STEP   1"
   ]
  },
  {
   "cell_type": "markdown",
   "id": "4721043f",
   "metadata": {},
   "source": [
    "Mapeamos cada SRA correspondiente a un cultivar de aguacate contra el genoma de referencia de cv Hass (del cual en el paso anterior indexamos), usando bwa. Añadimos a cada cultivar una firma para identificar las variantes más adelante quedando los códigos de la siguiente manera:"
   ]
  },
  {
   "cell_type": "code",
   "execution_count": null,
   "id": "f9ff984d",
   "metadata": {},
   "outputs": [],
   "source": [
    "bwa mem -K 100000000 -t 7 -Y -R '@RG\\tID:Anaheim\\tLB:Anaheim\\tPL:ILLUMINA\\tPM:HISEQ\\tSM:Anaheim' /home/synbio2/Mike_Burton/queensland2023.fasta SRR18503088_1.fastq SRR18503088_2.fastq > SRR18503088_aligned_reads.sam"
   ]
  },
  {
   "cell_type": "markdown",
   "id": "467e2ea5",
   "metadata": {},
   "source": [
    "Se explican los argumentos del código:\n",
    "**-t** 7 le dice  BWA que se usen 7 threads para ejecutar el alineamiento.\n",
    "**-Y** le dice a BWA que use recorte suave para alineaciones suplementarias.\n",
    "**-K** le dice a BWA que procese bases de entrada INT en cada lote independientemente de nThreads (para reproducibilidad)\n",
    "Para cada cv se añade un *readin group (RG)* con el argumento **-R**. Esta información es clave para la funcionalidad GATK descendente. GATK no funcionará sin una etiqueta de grupo de lectura (RG)."
   ]
  },
  {
   "cell_type": "markdown",
   "id": "7c284c13",
   "metadata": {},
   "source": [
    "# STEP  2"
   ]
  },
  {
   "cell_type": "markdown",
   "id": "7d0d27de",
   "metadata": {},
   "source": [
    "Convertimos cada resultado de los alineamientos de **sam** a **bam** con el software Samtools usando un loop."
   ]
  },
  {
   "cell_type": "code",
   "execution_count": null,
   "id": "130dad92",
   "metadata": {},
   "outputs": [],
   "source": [
    "for r1 in samples/*.sam \n",
    "do\n",
    "samtools view -bS -F 4 \"$r1\" -o  \"$r1\".bam \n",
    "done"
   ]
  },
  {
   "cell_type": "markdown",
   "id": "561176ff",
   "metadata": {},
   "source": [
    "Unimos cada alineamiento usando Picar para trabajar con un solo archivo (por esta razón etiquetamos cada cv antes del alineamiento)."
   ]
  },
  {
   "cell_type": "code",
   "execution_count": null,
   "id": "be447d55",
   "metadata": {},
   "outputs": [],
   "source": [
    "picard MergeSamFiles -I SRR18503073.bam -I SRR18503080.bam -I SRR18503086.bam -I SRR18503087.bam -I SRR18503088.bam -I SRR18503072.bam -I SRR18503092.bam -I SRR18503071.bam -I SRR18503070.bam -I SRR18503085.bam -I SRR18503074.bam -I SRR18503090.bam -I SRR18503091.bam -I SRR18503075.bam -I SRR18503076.bam -I SRR18503084.bam -I SRR18503081.bam -I SRR18503082.bam -I SRR18503083.bam -I SRR18503089.bam -O output_merged_files.bam"
   ]
  },
  {
   "cell_type": "markdown",
   "id": "8e73cec1",
   "metadata": {},
   "source": [
    "Con este comando de samtools damos una revisada para visualizar los RG con los que etiquetamos cada cv de aguacate."
   ]
  },
  {
   "cell_type": "code",
   "execution_count": null,
   "id": "a8ce28f8",
   "metadata": {},
   "outputs": [],
   "source": [
    "samtools view -H output_merged_files.bam | grep \"^@RG\""
   ]
  },
  {
   "cell_type": "markdown",
   "id": "203a0f53",
   "metadata": {},
   "source": [
    "# STEP 3"
   ]
  },
  {
   "cell_type": "markdown",
   "id": "a87b6aa8",
   "metadata": {},
   "source": [
    "Usando Picard marcados duplicados."
   ]
  },
  {
   "cell_type": "code",
   "execution_count": null,
   "id": "ec5e63cc",
   "metadata": {},
   "outputs": [],
   "source": [
    "gatk MarkDuplicatesSpark -I /home/output_merged_files.bam -M dedup_metrics.txt -O Alineamiento/sorted_dedup_reads.bam"
   ]
  },
  {
   "cell_type": "markdown",
   "id": "7526eac5",
   "metadata": {},
   "source": [
    "# STEP 4"
   ]
  },
  {
   "cell_type": "markdown",
   "id": "c6bc9381",
   "metadata": {},
   "source": [
    "Calculamos metricas del alineamiento"
   ]
  },
  {
   "cell_type": "code",
   "execution_count": null,
   "id": "5b569c96",
   "metadata": {},
   "outputs": [],
   "source": [
    "picard CollectAlignmentSummaryMetrics -R reference/queensland2023.fasta -I Alineamiento/sorted_dedup_reads.bam -O Alineamiento/alignment_metrics.txt"
   ]
  },
  {
   "cell_type": "code",
   "execution_count": null,
   "id": "f613c1bb",
   "metadata": {},
   "outputs": [],
   "source": [
    "picard CollectInsertSizeMetrics -I Alineamiento/sorted_dedup_reads.bam -O insert_metrics.txt -H insert_size_histogram.pdf"
   ]
  },
  {
   "cell_type": "code",
   "execution_count": null,
   "id": "39512b3a",
   "metadata": {},
   "outputs": [],
   "source": [
    "samtools depth -a Alineamiento/sorted_dedup_reads.bam > depth_out.txt"
   ]
  },
  {
   "cell_type": "markdown",
   "id": "8eebd5c1",
   "metadata": {},
   "source": [
    "# STEP 5"
   ]
  },
  {
   "cell_type": "markdown",
   "id": "d1d872b4",
   "metadata": {},
   "source": [
    "Iniciamos el Variant Calling. "
   ]
  },
  {
   "cell_type": "code",
   "execution_count": null,
   "id": "0998a03e",
   "metadata": {},
   "outputs": [],
   "source": [
    "gatk HaplotypeCaller -R reference/queensland2023.fasta  -I Alineamiento/sorted_dedup_reads.bam  -O raw_variants.vcf --native-pair-hmm-threads 16 -pairHMM AVX_LOGLESS_CACHING_OMP"
   ]
  },
  {
   "cell_type": "markdown",
   "id": "e646996f",
   "metadata": {},
   "source": [
    "El argumento **--native-pair-hmm-threads 16** ajusta la cantidad de threads a utilizar y **-pairHMM AVX_LOGLESS_CACHING_OMP** permite que se pueda trabajar en paralelo"
   ]
  },
  {
   "cell_type": "markdown",
   "id": "0ec9c182",
   "metadata": {},
   "source": [
    "NOTA:"
   ]
  },
  {
   "cell_type": "markdown",
   "id": "d41a2653",
   "metadata": {},
   "source": [
    "Es posible que el programa necesite crear un indice con el archivo sorted_dedup_reads.bam y el genoma de referencia. "
   ]
  },
  {
   "cell_type": "code",
   "execution_count": null,
   "id": "d3039695",
   "metadata": {},
   "outputs": [],
   "source": [
    "picard CreateSequenceDictionary -R reference/queensland2023.fasta -O queensland2023.dict"
   ]
  },
  {
   "cell_type": "code",
   "execution_count": null,
   "id": "a1780c42",
   "metadata": {},
   "outputs": [],
   "source": [
    "samtools faidx sorted_dedup_reads.bam"
   ]
  },
  {
   "cell_type": "markdown",
   "id": "d4cd0cfe",
   "metadata": {},
   "source": [
    "# STEP 6"
   ]
  },
  {
   "cell_type": "markdown",
   "id": "cc1f7cab",
   "metadata": {},
   "source": [
    "Extraemos SNPs."
   ]
  },
  {
   "cell_type": "code",
   "execution_count": null,
   "id": "5b164265",
   "metadata": {},
   "outputs": [],
   "source": [
    "gatk SelectVariants -R reference/queensland2023.fasta -V raw_variants.vcf -select-type SNP -O raw_snps.vcf"
   ]
  },
  {
   "cell_type": "markdown",
   "id": "55d5b85d",
   "metadata": {},
   "source": [
    "# STEP 7"
   ]
  },
  {
   "cell_type": "markdown",
   "id": "a0286879",
   "metadata": {},
   "source": [
    "Ejecutamos un primer filtro."
   ]
  },
  {
   "cell_type": "code",
   "execution_count": null,
   "id": "09d0eef8",
   "metadata": {},
   "outputs": [],
   "source": [
    "gatk VariantFiltration -R reference/queensland2023.fasta   -V raw_snps.vcf  -O filtered_snps.vcf -filter-name \"QD_filter\" -filter \"QD < 2.0\"   -filter-name \"FS_filter\" -filter \"FS > 60.0\" -filter-name \"MQ_filter\" -filter \"MQ < 40.0\"  -filter-name \"SOR_filter\" -filter \"SOR > 2.0\"  -filter-name \"MQRankSum_filter\" -filter-expression \"MQRankSum<-12.5\"   -filter-name \"ReadPosRankSum_filter\" -filter-expression \"ReadPosRankSum<-8\" "
   ]
  },
  {
   "cell_type": "markdown",
   "id": "b06e0014",
   "metadata": {},
   "source": [
    "Los filtros empleados son los siguientes: \\\n",
    "QD < 2,0: esta es la confianza de la variante (del campo QUAL) dividida por la profundidad sin filtrar de las muestras que no son de referencia homónima. Esta anotación tiene como objetivo normalizar la calidad de la variante para evitar la inflación causada cuando hay una cobertura profunda. Para fines de filtrado, es mejor utilizar QD que QUAL o DP directamente.\n",
    "\n",
    "FS > 60,0: Esta es la probabilidad en la escala de Phred de que exista un sesgo de hebra en el sitio. Strand Bias nos dice si el alelo alternativo se observó con mayor o menor frecuencia en la cadena delantera o inversa que el alelo de referencia. Cuando hay poco o ningún sesgo de hebra en el sitio, el valor de FS será cercano a 0.\n",
    "\n",
    "MQ < 40,0: Esta es la calidad del mapeo cuadrático medio de todas las lecturas en el sitio. En lugar de la calidad cartográfica promedio del sitio, esta anotación proporciona la raíz cuadrada del promedio de los cuadrados de las calidades cartográficas del sitio. Está destinado a incluir la desviación estándar de las cualidades cartográficas. Incluir la desviación estándar nos permite incluir la variación en el conjunto de datos. Una desviación estándar baja significa que todos los valores están cerca de la media, mientras que una desviación estándar alta significa que todos los valores están lejos de la media. Cuando las cualidades cartográficas son buenas en un sitio, el MQ será de alrededor de 60.\n",
    "\n",
    "SOR > 4,0: esta es otra forma de estimar el sesgo de cadena utilizando una prueba similar a la prueba de odds ratio simétrica. SOR se creó porque FS tiende a penalizar las variantes que ocurren en los extremos de los exones. Las lecturas en los extremos de los exones tienden a estar cubiertas solo por lecturas en una dirección y FS otorga a esas variantes una mala puntuación. SOR tendrá en cuenta las proporciones de lecturas que cubren ambos alelos.\n",
    "\n",
    "MQRankSum < -8.0: compara las calidades de mapeo de las lecturas que respaldan el alelo de referencia y el alelo alternativo.\n",
    "\n",
    "ReadPosRankSum < -8.0: compara si las posiciones de los alelos de referencia y alternativos son diferentes dentro de las lecturas. Ver un alelo sólo cerca del final de las lecturas es indicativo de error, porque ahí es donde los secuenciadores tienden a cometer la mayor cantidad de errores."
   ]
  },
  {
   "cell_type": "markdown",
   "id": "5da306ca",
   "metadata": {},
   "source": [
    "# STEP 8"
   ]
  },
  {
   "cell_type": "markdown",
   "id": "198bde64",
   "metadata": {},
   "source": [
    "Excluimos variantes que no pasaron el filtro del paso anterior."
   ]
  },
  {
   "cell_type": "code",
   "execution_count": null,
   "id": "c23bddac",
   "metadata": {},
   "outputs": [],
   "source": [
    "gatk SelectVariants  --exclude-filtered -V filtered_snps.vcf -O bqsr_snps.vcf "
   ]
  },
  {
   "cell_type": "markdown",
   "id": "5f70a535",
   "metadata": {},
   "source": [
    "# STEP 9"
   ]
  },
  {
   "cell_type": "markdown",
   "id": "717da6ab",
   "metadata": {},
   "source": [
    "GeneraMOS una tabla de recalibración para la recalibración del nivel de calidad base (BQSR)."
   ]
  },
  {
   "cell_type": "code",
   "execution_count": null,
   "id": "30665bd3",
   "metadata": {},
   "outputs": [],
   "source": [
    "  -R reference/queensland2023.fasta \\\n",
    "        -I Alineamiento/sorted_dedup_reads.bam \\\n",
    "        --known-sites bqsr_snps.vcf \\\n",
    "        --known-sites bqsr_indels.vcf \\\n",
    "        -O recal_data.table "
   ]
  },
  {
   "cell_type": "markdown",
   "id": "51f23a62",
   "metadata": {},
   "source": [
    "# STEP 10"
   ]
  },
  {
   "cell_type": "markdown",
   "id": "398c9b56",
   "metadata": {},
   "source": [
    "Aplicamos la recalibracion anterior para generar un nuevo archivo .bam para realizar un segundo variant calling."
   ]
  },
  {
   "cell_type": "code",
   "execution_count": null,
   "id": "902e0773",
   "metadata": {},
   "outputs": [],
   "source": [
    "gatk ApplyBQSR -R reference/queensland2023.fasta -I All_merged/sorted_dedup_reads.bam -bqsr recal_data.table -O recal_reads.bam "
   ]
  },
  {
   "cell_type": "markdown",
   "id": "a6946e52",
   "metadata": {},
   "source": [
    "# STEP 10.1"
   ]
  },
  {
   "cell_type": "markdown",
   "id": "80548b56",
   "metadata": {},
   "source": [
    "Podemos generar una segunda recalibración y generar un reporte para comparar valores, no es obligatorio pero nosotros sí lo hicimos."
   ]
  },
  {
   "cell_type": "code",
   "execution_count": null,
   "id": "64646c0e",
   "metadata": {},
   "outputs": [],
   "source": [
    "gatk BaseRecalibrator \\\n",
    "        -R reference/queensland2023.fasta\\\n",
    "        -I recal_reads.bam \\\n",
    "        --known-sites bqsr_snps.vcf \\\n",
    "        --known-sites bqsr_indels.vcf \\\n",
    "        -O post_recal_data.table "
   ]
  },
  {
   "cell_type": "markdown",
   "id": "5e8cbfd7",
   "metadata": {},
   "source": [
    "Generamos un plot para analizar las covarianzas."
   ]
  },
  {
   "cell_type": "code",
   "execution_count": null,
   "id": "13f5a3ad",
   "metadata": {},
   "outputs": [],
   "source": [
    "gatk AnalyzeCovariates -before recal_data.table -after post_recal_data.table  -plots recalibration_plots.pdf"
   ]
  },
  {
   "cell_type": "markdown",
   "id": "0d1cd35e",
   "metadata": {},
   "source": [
    "# STEP 11"
   ]
  },
  {
   "cell_type": "markdown",
   "id": "b072346e",
   "metadata": {},
   "source": [
    "Ejecutamos el segundo variant calling utilizando el archivo **recal_reads.bam** generado en el *STEP 10*."
   ]
  },
  {
   "cell_type": "code",
   "execution_count": null,
   "id": "957787cf",
   "metadata": {},
   "outputs": [],
   "source": [
    "gatk HaplotypeCaller -R reference/queensland2023.fasta -I recal_reads.bam -O raw_variants_recal.vcf"
   ]
  },
  {
   "cell_type": "markdown",
   "id": "06c7b9f2",
   "metadata": {},
   "source": [
    "# STEP 12"
   ]
  },
  {
   "cell_type": "markdown",
   "id": "e72af544",
   "metadata": {},
   "source": [
    "Extraemos los nuevos SNPs."
   ]
  },
  {
   "cell_type": "code",
   "execution_count": null,
   "id": "8e84bc70",
   "metadata": {},
   "outputs": [],
   "source": [
    "gatk SelectVariants -R reference/queensland2023.fasta -V raw_variants_recal.vcf  -select-type SNP  -O raw_snps_recal.vcf"
   ]
  },
  {
   "cell_type": "markdown",
   "id": "87147f00",
   "metadata": {},
   "source": [
    "# STEP 13"
   ]
  },
  {
   "cell_type": "markdown",
   "id": "c0700d2d",
   "metadata": {},
   "source": [
    "Filtramos los SNPs nuevamente."
   ]
  },
  {
   "cell_type": "code",
   "execution_count": null,
   "id": "ace1e1f7",
   "metadata": {},
   "outputs": [],
   "source": [
    "gatk VariantFiltration -R reference/queensland2023.fasta   -V raw_snps_recal.vcf  -O filtered_snps_final.vcf -filter-name \"QD_filter\" -filter \"QD < 2.0\"   -filter-name \"FS_filter\" -filter \"FS > 60.0\" -filter-name \"MQ_filter\" -filter \"MQ < 40.0\"  -filter-name \"SOR_filter\" -filter \"SOR > 4.0\"  \n"
   ]
  },
  {
   "cell_type": "markdown",
   "id": "4423cbc3",
   "metadata": {},
   "source": [
    "# STEP 14"
   ]
  },
  {
   "cell_type": "markdown",
   "id": "0987ef1a",
   "metadata": {},
   "source": [
    "Vamos a realizar la anotación de los SNPs, primero generamos una base de datos con los archivos de AvoBase."
   ]
  },
  {
   "cell_type": "code",
   "execution_count": null,
   "id": "4c0b5d96",
   "metadata": {},
   "outputs": [],
   "source": [
    "java -jar snpEff.jar build -gff3 -v avocadosnp2"
   ]
  },
  {
   "cell_type": "markdown",
   "id": "b4f8c1cb",
   "metadata": {},
   "source": [
    "Realizamos la anotación de las variantes con la base de datos generada."
   ]
  },
  {
   "cell_type": "code",
   "execution_count": null,
   "id": "66c805e8",
   "metadata": {},
   "outputs": [],
   "source": [
    "java -jar snpEff.jar avocadosnp /home/mike/Descargas/AVOCADO/obj3-SNPs/filtered_snps_final.vcf > filtered_snps_final_ann.vcf"
   ]
  },
  {
   "cell_type": "markdown",
   "id": "30d64931",
   "metadata": {},
   "source": [
    "# Hasta este punto ya tenemos los archivos vcf filtrados y anotados para ser utilizados en los análisis siguientes. "
   ]
  },
  {
   "cell_type": "code",
   "execution_count": null,
   "id": "f42228f7",
   "metadata": {},
   "outputs": [],
   "source": []
  }
 ],
 "metadata": {
  "kernelspec": {
   "display_name": "Python 3 (ipykernel)",
   "language": "python",
   "name": "python3"
  },
  "language_info": {
   "codemirror_mode": {
    "name": "ipython",
    "version": 3
   },
   "file_extension": ".py",
   "mimetype": "text/x-python",
   "name": "python",
   "nbconvert_exporter": "python",
   "pygments_lexer": "ipython3",
   "version": "3.11.4"
  }
 },
 "nbformat": 4,
 "nbformat_minor": 5
}
